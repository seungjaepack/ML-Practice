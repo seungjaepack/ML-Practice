{
  "nbformat": 4,
  "nbformat_minor": 0,
  "metadata": {
    "kernelspec": {
      "display_name": "Python 3",
      "language": "python",
      "name": "python3"
    },
    "language_info": {
      "codemirror_mode": {
        "name": "ipython",
        "version": 3
      },
      "file_extension": ".py",
      "mimetype": "text/x-python",
      "name": "python",
      "nbconvert_exporter": "python",
      "pygments_lexer": "ipython3",
      "version": "3.7.4"
    },
    "colab": {
      "name": "06_03 t-SNE.ipynb",
      "provenance": [],
      "collapsed_sections": [],
      "toc_visible": true
    }
  },
  "cells": [
    {
      "cell_type": "code",
      "metadata": {
        "id": "xE8VMOq8I-Yj"
      },
      "source": [
        "# matplotlib 설정\n",
        "from matplotlib import pyplot as plt\n",
        "from matplotlib import rc\n",
        "import numpy as np\n",
        "\n",
        "%matplotlib inline\n",
        "\n",
        "# mac OS 에서 한글이 깨진다면 참고.\n",
        "rc('font', family = 'AppleGothic')\n",
        "plt.rcParams['axes.unicode_minus'] = False"
      ],
      "execution_count": null,
      "outputs": []
    },
    {
      "cell_type": "markdown",
      "metadata": {
        "id": "9MRAJeGZI-Yr"
      },
      "source": [
        "# t-SNE"
      ]
    },
    {
      "cell_type": "markdown",
      "metadata": {
        "id": "Bu_9n3lSFD9n"
      },
      "source": [
        "## 1) 데이터 로드 및 확인"
      ]
    },
    {
      "cell_type": "markdown",
      "metadata": {
        "id": "41EEtpB4UgBT"
      },
      "source": [
        "손으로 쓴 숫자들로 이루어진 데이터셋으로 1797개의 8x8 픽셀 이미지에 대한 데이터를 가지고 있다.  \n",
        "숫자가 어떤 숫자인지 알려주는 각 이미지에 관한 라벨을 포함하고 있어 분류모델에서 많이 사용되는 데이터셋이다.\n",
        "\n",
        "\n",
        "- feature : 각 손글씨 이미지의 픽셀별 data\n",
        "- target : 이미지가 나타내는 숫자\n",
        "\n",
        "참고 : https://scikit-learn.org/stable/modules/generated/sklearn.datasets.load_digits.html"
      ]
    },
    {
      "cell_type": "code",
      "metadata": {
        "colab": {
          "base_uri": "https://localhost:8080/",
          "height": 308
        },
        "id": "NOCYoqEkIL3X",
        "outputId": "086f52b0-4df3-44f2-dd0a-94a56f2af671"
      },
      "source": [
        "# 손글씨 이미지를 불러와 확인해보자\n",
        "from sklearn.datasets import load_digits\n",
        "digits = load_digits()\n",
        "\n",
        "fig, axes = plt.subplots(2, 5, figsize=(10, 5))\n",
        "for ax, img, label in zip(axes.ravel(), digits.images, digits.target):\n",
        "    ax.imshow(img)\n",
        "    ax.set_title(f'target : {label}')"
      ],
      "execution_count": null,
      "outputs": [
        {
          "output_type": "display_data",
          "data": {
            "image/png": "[encoded data removed]",
            "text/plain": [
              "<Figure size 720x360 with 10 Axes>"
            ]
          },
          "metadata": {
            "tags": [],
            "needs_background": "light"
          }
        }
      ]
    },
    {
      "cell_type": "markdown",
      "metadata": {
        "id": "D-wywIToSEs9"
      },
      "source": [
        "학습 후 각 target을 구분할 수 있는 2차원 형태로 시각화된 것을 확인할 수 있다."
      ]
    }
  ]
}